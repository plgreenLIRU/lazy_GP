{
 "cells": [
  {
   "cell_type": "code",
   "execution_count": 1,
   "id": "9e378d4e",
   "metadata": {},
   "outputs": [],
   "source": [
    "import numpy as np\n",
    "import matplotlib.pyplot as plt\n",
    "from sklearn.metrics import mean_squared_error\n",
    "from lazy_GP import GP\n",
    "%matplotlib inline\n",
    "gp = GP()"
   ]
  },
  {
   "cell_type": "code",
   "execution_count": 2,
   "id": "2aabf2c1",
   "metadata": {},
   "outputs": [],
   "source": [
    "# Generate input data\n",
    "np.random.seed(42)\n",
    "N = 500\n",
    "D = 2\n",
    "X = np.random.uniform(-3, 3, (N, D))\n"
   ]
  },
  {
   "cell_type": "code",
   "execution_count": 3,
   "id": "86dd9314",
   "metadata": {},
   "outputs": [],
   "source": [
    "theta = np.array([1., 1.])\n",
    "v = np.random.randn(N)\n",
    "d_dash = 0\n",
    "dK_dtheta0_v = gp._mv_dk(X, d_dash, v, theta)"
   ]
  },
  {
   "cell_type": "code",
   "execution_count": 4,
   "id": "c2619522",
   "metadata": {},
   "outputs": [],
   "source": [
    "dK_dtheta = np.zeros([N, N])\n",
    "for i in range(N):\n",
    "    for j in range(N):\n",
    "        dK_dtheta[i, j] = theta[d_dash]**-3\n",
    "        for d in range(D):\n",
    "            dK_dtheta[i, j] *= np.exp(-0.5 * (X[i, d] - X[j, d])**2)\n",
    "        dK_dtheta[i, j] *= (X[i, d_dash] - X[j, d_dash])**2\n",
    "\n",
    "dK_dtheta0_v_test = dK_dtheta @ v"
   ]
  },
  {
   "cell_type": "code",
   "execution_count": 5,
   "id": "301a254a",
   "metadata": {},
   "outputs": [
    {
     "name": "stdout",
     "output_type": "stream",
     "text": [
      "True\n"
     ]
    }
   ],
   "source": [
    "print(np.allclose(dK_dtheta0_v, dK_dtheta0_v_test))"
   ]
  }
 ],
 "metadata": {
  "kernelspec": {
   "display_name": "Python 3",
   "language": "python",
   "name": "python3"
  },
  "language_info": {
   "codemirror_mode": {
    "name": "ipython",
    "version": 3
   },
   "file_extension": ".py",
   "mimetype": "text/x-python",
   "name": "python",
   "nbconvert_exporter": "python",
   "pygments_lexer": "ipython3",
   "version": "3.12.1"
  }
 },
 "nbformat": 4,
 "nbformat_minor": 5
}
